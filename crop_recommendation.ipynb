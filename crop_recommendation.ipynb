{
 "cells": [
  {
   "cell_type": "code",
   "execution_count": 20,
   "id": "31811be8-6591-45d9-8eaf-4953231c5fa5",
   "metadata": {},
   "outputs": [
    {
     "name": "stderr",
     "output_type": "stream",
     "text": [
      "c:\\Users\\ACER PC\\Dropbox\\Desktop\\Crop-Recommendation\\env_name\\Lib\\site-packages\\xgboost\\training.py:183: UserWarning: [23:50:37] WARNING: C:\\actions-runner\\_work\\xgboost\\xgboost\\src\\learner.cc:738: \n",
      "Parameters: { \"use_label_encoder\" } are not used.\n",
      "\n",
      "  bst.update(dtrain, iteration=i, fobj=obj)\n"
     ]
    },
    {
     "name": "stdout",
     "output_type": "stream",
     "text": [
      "\n",
      "✅ XGBoost Top-3 Accuracy: 0.9406\n"
     ]
    },
    {
     "data": {
      "text/plain": [
       "['cluster_model_num.pkl']"
      ]
     },
     "execution_count": 20,
     "metadata": {},
     "output_type": "execute_result"
    }
   ],
   "source": [
    "import numpy as np\n",
    "import pandas as pd\n",
    "from sklearn.preprocessing import LabelEncoder, StandardScaler\n",
    "from sklearn.cluster import KMeans\n",
    "from sklearn.model_selection import train_test_split\n",
    "from sklearn.metrics import top_k_accuracy_score\n",
    "from imblearn.over_sampling import SMOTE\n",
    "from xgboost import XGBClassifier\n",
    "import joblib\n",
    "\n",
    "# Load dataset\n",
    "df = pd.read_csv(\"data_core.csv\")\n",
    "\n",
    "SEED = 42\n",
    "np.random.seed(SEED)\n",
    "\n",
    "# Label Encoding\n",
    "le_soil = LabelEncoder()\n",
    "le_crop = LabelEncoder()\n",
    "le_fert = LabelEncoder()\n",
    "\n",
    "df['Soil Type Encoded'] = le_soil.fit_transform(df['Soil Type'])\n",
    "df['Crop Type Encoded'] = le_crop.fit_transform(df['Crop Type'])\n",
    "df['Fertilizer Encoded'] = le_fert.fit_transform(df['Fertilizer Name'])\n",
    "\n",
    "# Save encoders\n",
    "joblib.dump(le_soil, \"le_soil.pkl\")\n",
    "joblib.dump(le_crop, \"le_crop.pkl\")\n",
    "joblib.dump(le_fert, \"le_fert.pkl\")\n",
    "\n",
    "# Scale numerical features\n",
    "numerical = ['Temparature', 'Humidity', 'Moisture', 'Nitrogen', 'Potassium', 'Phosphorous']\n",
    "scaler = StandardScaler()\n",
    "df[numerical] = scaler.fit_transform(df[numerical])\n",
    "\n",
    "# Clustering\n",
    "cat_features = df[['Soil Type Encoded', 'Crop Type Encoded', 'Fertilizer Encoded']]\n",
    "kmeans_cat = KMeans(n_clusters=3, random_state=SEED)\n",
    "df['CatCluster'] = kmeans_cat.fit_predict(cat_features)\n",
    "\n",
    "num_cluster_features = df[['Nitrogen', 'Phosphorous', 'Fertilizer Encoded']]\n",
    "kmeans_num = KMeans(n_clusters=3, random_state=SEED)\n",
    "df['NumCluster'] = kmeans_num.fit_predict(num_cluster_features)\n",
    "\n",
    "# Interaction terms\n",
    "df['Temp_Humidity'] = df['Temparature'] * df['Humidity']\n",
    "df['Moisture_Nitrogen'] = df['Moisture'] * df['Nitrogen']\n",
    "\n",
    "# Final features and target\n",
    "features = numerical + ['Soil Type Encoded', 'Crop Type Encoded', 'CatCluster', 'NumCluster',\n",
    "                        'Temp_Humidity', 'Moisture_Nitrogen']\n",
    "X = df[features]\n",
    "y = df['Fertilizer Encoded']\n",
    "\n",
    "# Train/test split\n",
    "X_train, X_test, y_train, y_test = train_test_split(X, y, test_size=0.2, random_state=SEED, stratify=y)\n",
    "\n",
    "# SMOTE for class balancing\n",
    "smote = SMOTE(random_state=SEED)\n",
    "X_train_res, y_train_res = smote.fit_resample(X_train, y_train)\n",
    "\n",
    "# XGBoost training\n",
    "xgb = XGBClassifier(\n",
    "    random_state=SEED,\n",
    "    use_label_encoder=False,\n",
    "    eval_metric='mlogloss',\n",
    "    n_estimators=150,\n",
    "    max_depth=6,\n",
    "    learning_rate=0.1,\n",
    "    subsample=0.8,\n",
    "    colsample_bytree=0.8\n",
    ")\n",
    "xgb.fit(X_train_res, y_train_res)\n",
    "\n",
    "# Evaluate Top-3 accuracy\n",
    "y_proba = xgb.predict_proba(X_test)\n",
    "top3_acc = top_k_accuracy_score(y_test, y_proba, k=3)\n",
    "print(f\"\\n✅ XGBoost Top-3 Accuracy: {top3_acc:.4f}\")\n",
    "\n",
    "# Save models\n",
    "joblib.dump(xgb, \"fertilizer_model.pkl\")\n",
    "joblib.dump(scaler, \"scaler.pkl\")\n",
    "joblib.dump(kmeans_cat, \"cluster_model_cat.pkl\")\n",
    "joblib.dump(kmeans_num, \"cluster_model_num.pkl\")\n"
   ]
  },
  {
   "cell_type": "code",
   "execution_count": null,
   "id": "d9dea21f",
   "metadata": {},
   "outputs": [],
   "source": []
  }
 ],
 "metadata": {
  "kernelspec": {
   "display_name": "env_name",
   "language": "python",
   "name": "python3"
  },
  "language_info": {
   "codemirror_mode": {
    "name": "ipython",
    "version": 3
   },
   "file_extension": ".py",
   "mimetype": "text/x-python",
   "name": "python",
   "nbconvert_exporter": "python",
   "pygments_lexer": "ipython3",
   "version": "3.12.3"
  }
 },
 "nbformat": 4,
 "nbformat_minor": 5
}
